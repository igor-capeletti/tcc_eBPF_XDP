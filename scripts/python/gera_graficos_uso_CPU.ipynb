{
 "cells": [
  {
   "cell_type": "markdown",
   "metadata": {},
   "source": [
    "# Importação das bibliotecas"
   ]
  },
  {
   "cell_type": "code",
   "execution_count": 1,
   "metadata": {},
   "outputs": [],
   "source": [
    "import pandas as pd\n",
    "import numpy as np\n",
    "\n",
    "import matplotlib.pyplot as plt\n",
    "import seaborn as sns\n",
    "\n",
    "plt.style.use('seaborn')"
   ]
  },
  {
   "cell_type": "markdown",
   "metadata": {},
   "source": [
    "# Carregamento dos dataset de resultados"
   ]
  },
  {
   "cell_type": "code",
   "execution_count": 3,
   "metadata": {},
   "outputs": [],
   "source": [
    "#usuario= \"igorcapeletti\"\n",
    "usuario= \"igorubuntu\"\n",
    "\n",
    "raiz= f\"/home/{usuario}/github/tcc_eBPF_XDP/graficos\"\n",
    "\n",
    "#pasta de resultados gerais para programas eBPF: ----------------\n",
    "#pasta_resultado_ebpf= 'resultados1'\n",
    "#pasta_resultado_ebpf= 'resultados2'\n",
    "pasta_resultado_ebpf= 'resultados3'\n",
    "#pasta_resultado_ebpf= 'resultados4'\n",
    "raiz_ebpf= f\"/home/{usuario}/github/tcc_eBPF_XDP/experimentos/{pasta_resultado_ebpf}\"\n",
    "\n",
    "\n",
    "#pasta de resultados gerais para programas AF_XDP: ----------------\n",
    "#pasta_resultado_af_xdp= 'resultados_af_xdp1'\n",
    "pasta_resultado_af_xdp= 'resultados_af_xdp2'\n",
    "raiz_af_xdp= f\"/home/{usuario}/github/tcc_eBPF_XDP/experimentos/{pasta_resultado_af_xdp}\"\n",
    "\n",
    "\n",
    "#carregamento dos arquivos CSV dos resultados dos programas eBPF e AF_XDP: ----------------\n",
    "df_sar_ebpf = pd.read_csv(f'{raiz_ebpf}/resultado_geral_sar.csv', sep=',', engine='python')\n",
    "df_sar_af_xdp = pd.read_csv(f'{raiz_af_xdp}/resultado_geral_sar.csv', sep=',', engine='python')\n",
    "\n",
    "#normalizacao dos dados af_xdp\n",
    "df_sar_af_xdp['hook_ebpf']= df_sar_af_xdp['hook_ebpf'].replace('xdpgeneric','af_xdp')\n",
    "\n",
    "#concatenação dos dataframes referentes a cada analise (ebpf+af_xdp)\n",
    "df_sar= pd.concat([df_sar_ebpf,df_sar_af_xdp], sort = False)"
   ]
  },
  {
   "cell_type": "code",
   "execution_count": 4,
   "metadata": {},
   "outputs": [],
   "source": [
    "lista_combined= [1,2,4,8]\n",
    "\n",
    "lista_for= ['for_0_a_0','for_0_a_1','for_0_a_100','for_0_a_200','for_0_a_400','for_0_a_800','for_0_a_1600','for_0_a_3200','for_0_a_6400','for_0_a_12800']\n",
    "lista_alias_for= ['0','1','100','200','400','800','1600','3200','6400','12800']\n",
    "\n",
    "lista_hook_xdp= ['xdpgeneric','xdpdvr','af_xdp']\n",
    "\n",
    "lista_pacotes= [64,128,256,512,1024,1500]\n",
    "lista_alias_pacotes= ['64B','128B','256B','512B','1024B','1500B']\n",
    "\n",
    "lista_tipo_programa= ['ebpf','af_xdp']"
   ]
  },
  {
   "cell_type": "markdown",
   "metadata": {},
   "source": [
    "# Normalização dos datasets"
   ]
  },
  {
   "cell_type": "code",
   "execution_count": 6,
   "metadata": {},
   "outputs": [],
   "source": [
    "#antes de executar isso, eliminar ultima coluna dos arquivos perf que estão em branco\n",
    "\n",
    "colunas= ['combined', 'algoritmo', 'packet_size', 'hook_ebpf', 'cpu', 'soft']\n",
    "df_sar= df_sar[colunas]\n",
    "\n",
    "df_sar['algoritmo']= df_sar['algoritmo'].astype(str)\n",
    "for i,j in zip(lista_for,lista_alias_for):\n",
    "       df_sar['algoritmo']= df_sar['algoritmo'].replace(f'{i}',f'{j}')\n",
    "\n",
    "df_sar['algoritmo']= df_sar['algoritmo'].astype(int)\n"
   ]
  },
  {
   "cell_type": "markdown",
   "metadata": {},
   "source": [
    "# Resultados para ***Uso de CPU***"
   ]
  },
  {
   "cell_type": "code",
   "execution_count": 7,
   "metadata": {},
   "outputs": [],
   "source": [
    "format_imagens= '.pdf'"
   ]
  },
  {
   "cell_type": "code",
   "execution_count": 8,
   "metadata": {},
   "outputs": [
    {
     "data": {
      "text/html": [
       "<div>\n",
       "<style scoped>\n",
       "    .dataframe tbody tr th:only-of-type {\n",
       "        vertical-align: middle;\n",
       "    }\n",
       "\n",
       "    .dataframe tbody tr th {\n",
       "        vertical-align: top;\n",
       "    }\n",
       "\n",
       "    .dataframe thead th {\n",
       "        text-align: right;\n",
       "    }\n",
       "</style>\n",
       "<table border=\"1\" class=\"dataframe\">\n",
       "  <thead>\n",
       "    <tr style=\"text-align: right;\">\n",
       "      <th></th>\n",
       "      <th>combined</th>\n",
       "      <th>algoritmo</th>\n",
       "      <th>packet_size</th>\n",
       "      <th>hook_ebpf</th>\n",
       "      <th>cpu</th>\n",
       "      <th>soft</th>\n",
       "    </tr>\n",
       "  </thead>\n",
       "  <tbody>\n",
       "    <tr>\n",
       "      <th>0</th>\n",
       "      <td>4</td>\n",
       "      <td>800</td>\n",
       "      <td>128</td>\n",
       "      <td>xdpdrv</td>\n",
       "      <td>0</td>\n",
       "      <td>100.00</td>\n",
       "    </tr>\n",
       "    <tr>\n",
       "      <th>1</th>\n",
       "      <td>4</td>\n",
       "      <td>800</td>\n",
       "      <td>128</td>\n",
       "      <td>xdpdrv</td>\n",
       "      <td>1</td>\n",
       "      <td>100.00</td>\n",
       "    </tr>\n",
       "    <tr>\n",
       "      <th>2</th>\n",
       "      <td>4</td>\n",
       "      <td>800</td>\n",
       "      <td>128</td>\n",
       "      <td>xdpdrv</td>\n",
       "      <td>2</td>\n",
       "      <td>100.00</td>\n",
       "    </tr>\n",
       "    <tr>\n",
       "      <th>3</th>\n",
       "      <td>4</td>\n",
       "      <td>800</td>\n",
       "      <td>128</td>\n",
       "      <td>xdpdrv</td>\n",
       "      <td>3</td>\n",
       "      <td>100.00</td>\n",
       "    </tr>\n",
       "    <tr>\n",
       "      <th>4</th>\n",
       "      <td>4</td>\n",
       "      <td>800</td>\n",
       "      <td>128</td>\n",
       "      <td>xdpdrv</td>\n",
       "      <td>4</td>\n",
       "      <td>6.57</td>\n",
       "    </tr>\n",
       "    <tr>\n",
       "      <th>...</th>\n",
       "      <td>...</td>\n",
       "      <td>...</td>\n",
       "      <td>...</td>\n",
       "      <td>...</td>\n",
       "      <td>...</td>\n",
       "      <td>...</td>\n",
       "    </tr>\n",
       "    <tr>\n",
       "      <th>3835</th>\n",
       "      <td>4</td>\n",
       "      <td>200</td>\n",
       "      <td>64</td>\n",
       "      <td>af_xdp</td>\n",
       "      <td>11</td>\n",
       "      <td>0.00</td>\n",
       "    </tr>\n",
       "    <tr>\n",
       "      <th>3836</th>\n",
       "      <td>4</td>\n",
       "      <td>200</td>\n",
       "      <td>64</td>\n",
       "      <td>af_xdp</td>\n",
       "      <td>12</td>\n",
       "      <td>0.00</td>\n",
       "    </tr>\n",
       "    <tr>\n",
       "      <th>3837</th>\n",
       "      <td>4</td>\n",
       "      <td>200</td>\n",
       "      <td>64</td>\n",
       "      <td>af_xdp</td>\n",
       "      <td>13</td>\n",
       "      <td>0.00</td>\n",
       "    </tr>\n",
       "    <tr>\n",
       "      <th>3838</th>\n",
       "      <td>4</td>\n",
       "      <td>200</td>\n",
       "      <td>64</td>\n",
       "      <td>af_xdp</td>\n",
       "      <td>14</td>\n",
       "      <td>0.00</td>\n",
       "    </tr>\n",
       "    <tr>\n",
       "      <th>3839</th>\n",
       "      <td>4</td>\n",
       "      <td>200</td>\n",
       "      <td>64</td>\n",
       "      <td>af_xdp</td>\n",
       "      <td>15</td>\n",
       "      <td>0.00</td>\n",
       "    </tr>\n",
       "  </tbody>\n",
       "</table>\n",
       "<p>11520 rows × 6 columns</p>\n",
       "</div>"
      ],
      "text/plain": [
       "      combined  algoritmo  packet_size hook_ebpf  cpu    soft\n",
       "0            4        800          128    xdpdrv    0  100.00\n",
       "1            4        800          128    xdpdrv    1  100.00\n",
       "2            4        800          128    xdpdrv    2  100.00\n",
       "3            4        800          128    xdpdrv    3  100.00\n",
       "4            4        800          128    xdpdrv    4    6.57\n",
       "...        ...        ...          ...       ...  ...     ...\n",
       "3835         4        200           64    af_xdp   11    0.00\n",
       "3836         4        200           64    af_xdp   12    0.00\n",
       "3837         4        200           64    af_xdp   13    0.00\n",
       "3838         4        200           64    af_xdp   14    0.00\n",
       "3839         4        200           64    af_xdp   15    0.00\n",
       "\n",
       "[11520 rows x 6 columns]"
      ]
     },
     "execution_count": 8,
     "metadata": {},
     "output_type": "execute_result"
    }
   ],
   "source": [
    "df_sar"
   ]
  },
  {
   "cell_type": "markdown",
   "metadata": {},
   "source": [
    "### uso1) Quantos processadores são utilizados por quantidade de filas TX/RX?"
   ]
  },
  {
   "cell_type": "code",
   "execution_count": 21,
   "metadata": {},
   "outputs": [
    {
     "data": {
      "image/png": "[encoded data removed]",
      "text/plain": [
       "<Figure size 432x288 with 1 Axes>"
      ]
     },
     "metadata": {
      "needs_background": "light"
     },
     "output_type": "display_data"
    }
   ],
   "source": [
    "algoritmo= 0\n",
    "combined= 8\n",
    "packet_size= 1024\n",
    "hook_ebpf= 'xdpgeneric'\n",
    "#hook_ebpf= 'xdpdrv'\n",
    "hook_ebpf= 'af_xdp'\n",
    "\n",
    "eixo_x= 'cpu'\n",
    "eixo_y= 'soft'\n",
    "hue= 'combined'\n",
    "\n",
    "plt.rc('figure', figsize=(15, 5))\n",
    "df_sar= df_sar.sort_values(by=[eixo_x, hue], ascending=True)              #ordena dados por tamanho dos pacotes\n",
    "\n",
    "df= df_sar.copy()\n",
    "df= df[df.algoritmo == algoritmo]                #filtra por algoritmo especifico\n",
    "#df= df[df.combined == combined]                  #filtra por quantidade de filas TX/RX especifica\n",
    "df= df[df.packet_size == packet_size]            #filtra por tamanho de pacote especifico\n",
    "df= df[df.hook_ebpf == hook_ebpf]                #filtra por modo XDP especifico\n",
    "\n",
    "#df['packet_size']= df['packet_size'].astype(str)\n",
    "#for i,j in zip(lista_pacotes,lista_alias_pacotes):\n",
    "#       df['packet_size']= df['packet_size'].replace(f'{i}',f'{j}')\n",
    "       \n",
    "df= df[[eixo_x, eixo_y, hue]]\n",
    "\n",
    "ax = sns.barplot(y=eixo_y, x=eixo_x, hue=hue, data=df, palette='Paired');                      #grafico de barras\n",
    "#ax = sns.lineplot(y=eixo_y, x=eixo_x, hue=hue, data=df, palette='Paired', marker='o');        #grafico de linhas\n",
    "ax.set_ylabel('Uso dos cores (%)')\n",
    "ax.set_xlabel(\"Cores do processador\")\n",
    "ax.legend(title = 'Filas TX/RX')\n",
    "save_image= ax.get_figure()\n",
    "save_image.savefig(f'{raiz}/uso1{format_imagens}')\n"
   ]
  },
  {
   "cell_type": "markdown",
   "metadata": {},
   "source": [
    "### uso2) Qual é o uso dos CPUs para cada modo XDP?"
   ]
  },
  {
   "cell_type": "code",
   "execution_count": 37,
   "metadata": {},
   "outputs": [
    {
     "data": {
      "image/png": "[encoded data removed]",
      "text/plain": [
       "<Figure size 1080x360 with 1 Axes>"
      ]
     },
     "metadata": {
      "needs_background": "light"
     },
     "output_type": "display_data"
    }
   ],
   "source": [
    "algoritmo= 400\n",
    "combined= 8\n",
    "packet_size= 64\n",
    "hook_ebpf= 'xdpgeneric'\n",
    "#hook_ebpf= 'xdpdrv'\n",
    "#hook_ebpf= 'af_xdp'\n",
    "\n",
    "eixo_x= 'cpu'\n",
    "eixo_y= 'soft'\n",
    "hue= 'combined'\n",
    "\n",
    "plt.rc('figure', figsize=(15, 5))\n",
    "df_sar= df_sar.sort_values(by=[eixo_x, hue], ascending=True)              #ordena dados por tamanho dos pacotes\n",
    "\n",
    "df= df_sar.copy()\n",
    "df= df[df.algoritmo == algoritmo]                #filtra por algoritmo especifico\n",
    "df= df[df.combined == combined]                  #filtra por quantidade de filas TX/RX especifica\n",
    "df= df[df.packet_size == packet_size]            #filtra por tamanho de pacote especifico\n",
    "df= df[df.hook_ebpf == hook_ebpf]                #filtra por modo XDP especifico\n",
    "\n",
    "df= df[[eixo_x, eixo_y, hue]]\n",
    "\n",
    "ax = sns.barplot(y=eixo_y, x=eixo_x, hue=hue, data=df, palette='Paired');                      #grafico de barras\n",
    "#ax = sns.lineplot(y=eixo_y, x=eixo_x, hue=hue, data=df, palette='Paired', marker='o');        #grafico de linhas\n",
    "ax.set_ylabel('Uso dos cores (%)')\n",
    "ax.set_xlabel(\"Cores do processador\")\n",
    "ax.legend(title = 'Filas TX/RX')\n",
    "save_image= ax.get_figure()\n",
    "save_image.savefig(f'{raiz}/uso2_hook_{hook_ebpf}{format_imagens}')"
   ]
  },
  {
   "cell_type": "markdown",
   "metadata": {},
   "source": [
    "uso3) Qual uso de CPU para os diferentes laços de repetição?"
   ]
  },
  {
   "cell_type": "code",
   "execution_count": 57,
   "metadata": {},
   "outputs": [
    {
     "data": {
      "image/png": "[encoded data removed]",
      "text/plain": [
       "<Figure size 1080x360 with 1 Axes>"
      ]
     },
     "metadata": {
      "needs_background": "light"
     },
     "output_type": "display_data"
    }
   ],
   "source": [
    "algoritmo= 100\n",
    "combined= 1\n",
    "packet_size= 64\n",
    "hook_ebpf= 'xdpgeneric'\n",
    "#hook_ebpf= 'xdpdrv'\n",
    "#hook_ebpf= 'af_xdp'\n",
    "\n",
    "eixo_x= 'cpu'\n",
    "eixo_y= 'soft'\n",
    "hue= 'algoritmo'\n",
    "\n",
    "plt.rc('figure', figsize=(15, 5))\n",
    "df_sar= df_sar.sort_values(by=[eixo_x, hue], ascending=True)              #ordena dados por tamanho dos pacotes\n",
    "\n",
    "df= df_sar.copy()\n",
    "#df= df[df.algoritmo == algoritmo]                #filtra por algoritmo especifico\n",
    "df= df[df.combined == combined]                  #filtra por quantidade de filas TX/RX especifica\n",
    "df= df[df.packet_size == packet_size]            #filtra por tamanho de pacote especifico\n",
    "df= df[df.hook_ebpf == hook_ebpf]                #filtra por modo XDP especifico\n",
    "\n",
    "df= df[[eixo_x, eixo_y, hue]]\n",
    "\n",
    "df['algoritmo']= df['algoritmo'].astype(str)\n",
    "for i,j in zip(lista_alias_for,lista_for):\n",
    "       df['algoritmo']= df['algoritmo'].replace(f'{i}',f'{j}')\n",
    "\n",
    "ax = sns.barplot(y=eixo_y, x=eixo_x, hue=hue, data=df, palette='Paired');                      #grafico de barras\n",
    "#ax = sns.lineplot(y=eixo_y, x=eixo_x, hue=hue, data=df, palette='Paired', marker='o');        #grafico de linhas\n",
    "ax.set_ylabel('Uso dos cores (%)')\n",
    "ax.set_xlabel(\"Cores do processador\")\n",
    "ax.legend(title = 'Tipos de Algoritmos')\n",
    "save_image= ax.get_figure()\n",
    "save_image.savefig(f'{raiz}/uso3_hook_{hook_ebpf}{format_imagens}')\n"
   ]
  },
  {
   "cell_type": "markdown",
   "metadata": {},
   "source": [
    "i3) Qual uso de CPU dos filas TX/RX para os diferentes laços de repetição? (todos os modos xdp e packets 1024)"
   ]
  },
  {
   "cell_type": "code",
   "execution_count": null,
   "metadata": {},
   "outputs": [],
   "source": [
    "i2) Qual uso de CPU das filas TX/RX para os diferentes laços de repetição? (todos os modos xdp e packets 1024)"
   ]
  },
  {
   "cell_type": "markdown",
   "metadata": {},
   "source": [
    "### 2.3 Qual o ***uso de CPU*** por modo de hook XDP?"
   ]
  },
  {
   "cell_type": "markdown",
   "metadata": {},
   "source": [
    "## 3. Tamanho dos laços de repetição dos algoritmos"
   ]
  },
  {
   "cell_type": "markdown",
   "metadata": {},
   "source": [
    "### 3.3 Qual o ***uso de CPU*** por laço de repetição"
   ]
  },
  {
   "cell_type": "markdown",
   "metadata": {},
   "source": [
    "## 4. Tamanho dos Pacotes"
   ]
  },
  {
   "cell_type": "markdown",
   "metadata": {},
   "source": [
    "### 4.3 Qual o ***uso de CPU*** obtido por tamanho de pacote "
   ]
  }
 ],
 "metadata": {
  "kernelspec": {
   "display_name": "Python 3.10.4 64-bit",
   "language": "python",
   "name": "python3"
  },
  "language_info": {
   "codemirror_mode": {
    "name": "ipython",
    "version": 3
   },
   "file_extension": ".py",
   "mimetype": "text/x-python",
   "name": "python",
   "nbconvert_exporter": "python",
   "pygments_lexer": "ipython3",
   "version": "3.10.4"
  },
  "orig_nbformat": 4,
  "vscode": {
   "interpreter": {
    "hash": "916dbcbb3f70747c44a77c7bcd40155683ae19c65e1c03b4aa3499c5328201f1"
   }
  }
 },
 "nbformat": 4,
 "nbformat_minor": 2
}
